{
 "cells": [
  {
   "cell_type": "code",
   "execution_count": 1,
   "metadata": {},
   "outputs": [],
   "source": [
    "# Libraries\n",
    "\n",
    "import requests\n",
    "from bs4 import BeautifulSoup\n",
    "\n",
    "\n"
   ]
  },
  {
   "cell_type": "code",
   "execution_count": 4,
   "metadata": {},
   "outputs": [],
   "source": [
    "page = requests.get('https://www.wta.org/go-outside/hikes')\n",
    "contents = page.content\n",
    "soup = BeautifulSoup(contents, 'html.parser')\n",
    "soup"
   ]
  },
  {
   "cell_type": "code",
   "execution_count": 20,
   "metadata": {
    "scrolled": true
   },
   "outputs": [
    {
     "data": {
      "text/plain": [
       "'https://www.wta.org/go-hiking/hikes/red-top-lookout'"
      ]
     },
     "execution_count": 20,
     "metadata": {},
     "output_type": "execute_result"
    }
   ],
   "source": [
    "alltrails = soup.findAll(\"div\", {\"class\": \"search-result-item\"})\n",
    "for trail in alltrails:\n",
    "    url = trail.div.div.a['href']\n",
    "    name = trail.div.div.span.contents[0]\n",
    "    region = trail..div.div.h3.contents[0]\n",
    "    length = trail.div.findAll(\"div\", {\"class\": \"hike-length hike-stat\"})[0].span.contents[0]\n",
    "    elevation = trail.div.findAll(\"div\", {\"class\": \"hike-gain hike-stat\"})[0].span.contents[0]\n",
    "    hp = trail.div.findAll(\"div\", {\"class\": \"hike-highpoint hike-stat\"})[0].span.contents[0]\n",
    "    currentrating = trail.div.findAll(\"span\", {\"class\": \"rating-count\"})[0].contents[0]\n",
    "    features_content = trail.div.findAll(\"div\", {\"class\": \"trip-features\"})[0].findAll(\"img\")\n",
    "    features = []\n",
    "    for x in features_content:\n",
    "        features.append(x['title'])\n",
    "    excerpt = trail.div.findAll(\"div\", {\"class\": \"listing-summary omega show-excerpt\"})[0].contents[0]"
   ]
  },
  {
   "cell_type": "code",
   "execution_count": 113,
   "metadata": {},
   "outputs": [
    {
     "data": {
      "text/plain": [
       "'\\n            Red Top Lookout, built in 1952, restored in 1997, and still operational today, provides a fine bang for your hiking buck. A short, steep trail leads to the functioning fire lookout as well as magnificent 360 degree views of the Stuart Range, Teanaway Ridge, Chelan and Entiat Mountains, Mount Rainier, and even Mount Adams on a clear day.\\n        '"
      ]
     },
     "execution_count": 113,
     "metadata": {},
     "output_type": "execute_result"
    }
   ],
   "source": [
    "alltrails = soup.findAll(\"div\", {\"class\": \"search-result-item\"})\n",
    "x = alltrails[0]\n",
    "url = x.div.findAll(\"div\", {\"class\": \"listing-summary omega show-excerpt\"})[0].contents[0]\n",
    "url"
   ]
  },
  {
   "cell_type": "code",
   "execution_count": null,
   "metadata": {},
   "outputs": [],
   "source": []
  }
 ],
 "metadata": {
  "kernelspec": {
   "display_name": "Python 3",
   "language": "python",
   "name": "python3"
  },
  "language_info": {
   "codemirror_mode": {
    "name": "ipython",
    "version": 3
   },
   "file_extension": ".py",
   "mimetype": "text/x-python",
   "name": "python",
   "nbconvert_exporter": "python",
   "pygments_lexer": "ipython3",
   "version": "3.6.4"
  }
 },
 "nbformat": 4,
 "nbformat_minor": 2
}
